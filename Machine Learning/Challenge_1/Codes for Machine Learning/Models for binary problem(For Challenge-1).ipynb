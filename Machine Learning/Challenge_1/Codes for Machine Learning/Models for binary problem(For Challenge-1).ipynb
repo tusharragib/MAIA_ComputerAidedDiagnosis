{
 "cells": [
  {
   "cell_type": "code",
   "execution_count": 16,
   "metadata": {
    "id": "a6N71YFqk-Gl"
   },
   "outputs": [],
   "source": [
    "import pandas as pd\n",
    "from sklearn.metrics import cohen_kappa_score"
   ]
  },
  {
   "cell_type": "code",
   "execution_count": 17,
   "metadata": {
    "id": "URIbgCc8k_on"
   },
   "outputs": [],
   "source": [
    "#Write here the path to the folder with csv-files\n",
    "data_file=\"files/\" "
   ]
  },
  {
   "cell_type": "code",
   "execution_count": 18,
   "metadata": {
    "id": "e0NIm-N1lD4C"
   },
   "outputs": [],
   "source": [
    "#Reading train features file\n",
    "train_fetures_extraction_les_nv = pd.read_csv(data_file+'train_fetures_extraction_les_nv.csv')\n",
    "train_fetures_extraction_les_nv=train_fetures_extraction_les_nv.drop('lbp_27',axis=1)\n",
    "X_train=train_fetures_extraction_les_nv.drop('name',axis=1)\n",
    "X_train=X_train.drop('class',axis=1)\n",
    "y_train=train_fetures_extraction_les_nv['class']"
   ]
  },
  {
   "cell_type": "code",
   "execution_count": 19,
   "metadata": {
    "id": "j_szW2vjlE7T"
   },
   "outputs": [],
   "source": [
    "#Reading validation features file\n",
    "test_fetures_extraction_les_nv = pd.read_csv(data_file+'val_fetures_extraction_les_nv.csv')\n",
    "test_fetures_extraction_les_nv=test_fetures_extraction_les_nv.drop('lbp_27',axis=1)\n",
    "X_val=test_fetures_extraction_les_nv.drop('name',axis=1)\n",
    "X_val=X_val.drop('class',axis=1)\n",
    "y_val=test_fetures_extraction_les_nv['class']"
   ]
  },
  {
   "cell_type": "code",
   "execution_count": 20,
   "metadata": {
    "id": "ttK7XB6GlF_a"
   },
   "outputs": [],
   "source": [
    "# Applying RobustScaler\n",
    "from sklearn.preprocessing import RobustScaler\n",
    "transformer = RobustScaler()\n",
    "X_train = transformer.fit_transform(X_train)\n",
    "X_val = transformer.transform(X_val) "
   ]
  },
  {
   "cell_type": "code",
   "execution_count": 21,
   "metadata": {
    "colab": {
     "base_uri": "https://localhost:8080/"
    },
    "id": "Rn6jTSoZFcmV",
    "outputId": "a2a12706-09b5-4836-b31a-e7456e4f41de"
   },
   "outputs": [
    {
     "name": "stdout",
     "output_type": "stream",
     "text": [
      "\n",
      "Prediction accuracy:\n",
      "90.33%\n",
      "\n",
      "\n",
      "Prediction kappa:\n",
      "80.67%\n",
      "\n"
     ]
    }
   ],
   "source": [
    "#KNN classifier Prediction accuracy: 90.33%. Prediction kappa: 80.67%\n",
    "\n",
    "from sklearn.neighbors import KNeighborsClassifier\n",
    "from sklearn.metrics import accuracy_score\n",
    "knn = KNeighborsClassifier(n_neighbors=11)\n",
    "knn.fit(X_train,y_train)\n",
    "scores = knn.predict(X_val)\n",
    "\n",
    "# Show prediction accuracy\n",
    "print('\\nPrediction accuracy:')\n",
    "print('{:.2%}\\n'.format(accuracy_score(y_val, scores)))\n",
    "print('\\nPrediction kappa:')\n",
    "print('{:.2%}\\n'.format(cohen_kappa_score(y_val, scores)))"
   ]
  },
  {
   "cell_type": "code",
   "execution_count": 22,
   "metadata": {
    "id": "4FwkNHXK6Ezg"
   },
   "outputs": [],
   "source": [
    "#Applying Principal component analysis (PCA).\n",
    "from sklearn.decomposition import PCA\n",
    "pca = PCA(n_components=10)\n",
    "X_train = pca.fit_transform(X_train)\n",
    "X_val = pca.transform(X_val)"
   ]
  },
  {
   "cell_type": "code",
   "execution_count": 23,
   "metadata": {
    "colab": {
     "base_uri": "https://localhost:8080/"
    },
    "id": "G5FKxPY0lIkr",
    "outputId": "df90114c-3dff-4518-f145-3d90cbe47981"
   },
   "outputs": [
    {
     "name": "stdout",
     "output_type": "stream",
     "text": [
      "\n",
      "Prediction accuracy:\n",
      "89.08%\n",
      "\n",
      "\n",
      "Prediction kappa:\n",
      "78.17%\n",
      "\n"
     ]
    }
   ],
   "source": [
    "#RandomForestClassifier Prediction accuracy: 89.08% Prediction kappa: 78.17%\n",
    "from sklearn.ensemble import RandomForestClassifier\n",
    "from sklearn.metrics import accuracy_score\n",
    "classifier = RandomForestClassifier(max_depth=10, random_state=0)\n",
    "classifier.fit(X_train, y_train)\n",
    "\n",
    "y_pred = classifier.predict(X_val)\n",
    "\n",
    "# Show prediction accuracy\n",
    "print('\\nPrediction accuracy:')\n",
    "print('{:.2%}\\n'.format(accuracy_score(y_val, y_pred)))\n",
    "print('\\nPrediction kappa:')\n",
    "print('{:.2%}\\n'.format(cohen_kappa_score(y_val, y_pred)))"
   ]
  },
  {
   "cell_type": "code",
   "execution_count": 24,
   "metadata": {
    "colab": {
     "base_uri": "https://localhost:8080/"
    },
    "id": "NCOiSDTACF66",
    "outputId": "8977845f-d9f6-4434-e5f4-510e83d33b3b"
   },
   "outputs": [
    {
     "name": "stdout",
     "output_type": "stream",
     "text": [
      "\n",
      "Prediction accuracy:\n",
      "87.50%\n",
      "\n",
      "\n",
      "Prediction kappa:\n",
      "75.00%\n",
      "\n"
     ]
    }
   ],
   "source": [
    "#SVC classifier Prediction accuracy: 87.50% Prediction kappa: 75.00%\n",
    "\n",
    "from sklearn import svm\n",
    "from sklearn.svm import SVC\n",
    "from sklearn.metrics import accuracy_score\n",
    "clf = SVC(C=1, gamma=0.01, kernel='linear')\n",
    "\n",
    "clf.fit(X_train, y_train)\n",
    "scores = clf.predict(X_val)\n",
    "\n",
    "# Show prediction accuracy#\n",
    "print('\\nPrediction accuracy:')\n",
    "print('{:.2%}\\n'.format(accuracy_score(y_val, scores)))\n",
    "print('\\nPrediction kappa:')\n",
    "print('{:.2%}\\n'.format(cohen_kappa_score(y_val, scores)))"
   ]
  },
  {
   "cell_type": "code",
   "execution_count": 25,
   "metadata": {
    "colab": {
     "base_uri": "https://localhost:8080/"
    },
    "id": "j_js6BF1C1cr",
    "outputId": "759c8e8b-ea10-4625-ade2-f44aba71f4bb"
   },
   "outputs": [
    {
     "name": "stdout",
     "output_type": "stream",
     "text": [
      "[22:06:22] WARNING: C:/Users/Administrator/workspace/xgboost-win64_release_1.4.0/src/learner.cc:1095: Starting in XGBoost 1.3.0, the default evaluation metric used with the objective 'binary:logistic' was changed from 'error' to 'logloss'. Explicitly set eval_metric if you'd like to restore the old behavior.\n"
     ]
    },
    {
     "name": "stderr",
     "output_type": "stream",
     "text": [
      "c:\\users\\hp\\appdata\\local\\programs\\python\\python37\\lib\\site-packages\\xgboost\\sklearn.py:1146: UserWarning: The use of label encoder in XGBClassifier is deprecated and will be removed in a future release. To remove this warning, do the following: 1) Pass option use_label_encoder=False when constructing XGBClassifier object; and 2) Encode your labels (y) as integers starting with 0, i.e. 0, 1, 2, ..., [num_class - 1].\n",
      "  warnings.warn(label_encoder_deprecation_msg, UserWarning)\n"
     ]
    },
    {
     "name": "stdout",
     "output_type": "stream",
     "text": [
      "\n",
      "Prediction accuracy:\n",
      "86.08%\n",
      "\n",
      "\n",
      "Prediction kappa:\n",
      "72.17%\n",
      "\n"
     ]
    }
   ],
   "source": [
    "#XGBClassifier Prediction accuracy: 86.08% Prediction kappa: 72.17%\n",
    "from sklearn.metrics import accuracy_score\n",
    "\n",
    "model = XGBClassifier()\n",
    "model.fit(X_train, y_train)\n",
    "scores = model.predict(X_val)\n",
    "# Show prediction accuracy\n",
    "print('\\nPrediction accuracy:')\n",
    "print('{:.2%}\\n'.format(accuracy_score(y_val, scores)))\n",
    "print('\\nPrediction kappa:')\n",
    "print('{:.2%}\\n'.format(cohen_kappa_score(y_val, scores)))"
   ]
  },
  {
   "cell_type": "code",
   "execution_count": 26,
   "metadata": {
    "colab": {
     "base_uri": "https://localhost:8080/"
    },
    "id": "Pk3mSGG4DUGn",
    "outputId": "4b5c3d7d-9026-4ead-ed51-323d29e165d6"
   },
   "outputs": [
    {
     "name": "stdout",
     "output_type": "stream",
     "text": [
      "\n",
      "Prediction accuracy:\n",
      "88.58%\n",
      "\n",
      "\n",
      "Prediction kappa:\n",
      "77.17%\n",
      "\n"
     ]
    }
   ],
   "source": [
    "#Adaboost classifier Prediction accuracy: 88.58% Prediction kappa: 77.17%\n",
    "\n",
    "from sklearn.ensemble import AdaBoostClassifier\n",
    "from sklearn.metrics import accuracy_score\n",
    "clf = AdaBoostClassifier(n_estimators=100, random_state=0)\n",
    "clf.fit(X_train, y_train)\n",
    "scores = clf.predict(X_val)\n",
    "\n",
    "# Show prediction accuracy\n",
    "print('\\nPrediction accuracy:')\n",
    "print('{:.2%}\\n'.format(accuracy_score(y_val, scores)))\n",
    "print('\\nPrediction kappa:')\n",
    "print('{:.2%}\\n'.format(cohen_kappa_score(y_val, scores)))"
   ]
  },
  {
   "cell_type": "code",
   "execution_count": 27,
   "metadata": {
    "colab": {
     "base_uri": "https://localhost:8080/"
    },
    "id": "k2RIub-YDDiw",
    "outputId": "6a4653a5-b69f-46d5-de5d-4fc7f159f18a"
   },
   "outputs": [
    {
     "name": "stdout",
     "output_type": "stream",
     "text": [
      "\n",
      "Prediction accuracy:\n",
      "90.75%\n",
      "\n",
      "\n",
      "Prediction kappa:\n",
      "81.50%\n",
      "\n"
     ]
    }
   ],
   "source": [
    "#Extratrees classifier Prediction accuracy: 90.58% Prediction kappa: 81.17%\n",
    "from sklearn.ensemble import ExtraTreesClassifier\n",
    "from sklearn.metrics import accuracy_score\n",
    "clf = ExtraTreesClassifier(n_estimators=100, random_state=0)\n",
    "clf.fit(X_train, y_train)\n",
    "scores = clf.predict(X_val)\n",
    "\n",
    "# Show prediction accuracy\n",
    "print('\\nPrediction accuracy:')\n",
    "print('{:.2%}\\n'.format(accuracy_score(y_val, scores)))\n",
    "print('\\nPrediction kappa:')\n",
    "print('{:.2%}\\n'.format(cohen_kappa_score(y_val, scores)))"
   ]
  },
  {
   "cell_type": "code",
   "execution_count": 28,
   "metadata": {
    "colab": {
     "base_uri": "https://localhost:8080/"
    },
    "id": "MATLuhI3Dplq",
    "outputId": "b8e40e87-bbf7-4f56-9902-986fb2604c51"
   },
   "outputs": [
    {
     "name": "stdout",
     "output_type": "stream",
     "text": [
      "\n",
      "Prediction accuracy:\n",
      "88.92%\n",
      "\n",
      "\n",
      "Prediction kappa:\n",
      "77.83%\n",
      "\n"
     ]
    }
   ],
   "source": [
    "#RandomForestClassifier classifier Prediction accuracy: 88.92% Prediction kappa: 77.83%\n",
    "\n",
    "from sklearn.ensemble import RandomForestClassifier\n",
    "from sklearn.metrics import accuracy_score\n",
    "clf = RandomForestClassifier(n_estimators=100, random_state=0)\n",
    "clf.fit(X_train, y_train)\n",
    "scores = clf.predict(X_val)\n",
    "\n",
    "# Show prediction accuracy\n",
    "print('\\nPrediction accuracy:')\n",
    "print('{:.2%}\\n'.format(accuracy_score(y_val, scores)))\n",
    "print('\\nPrediction kappa:')\n",
    "print('{:.2%}\\n'.format(cohen_kappa_score(y_val, scores)))"
   ]
  },
  {
   "cell_type": "code",
   "execution_count": 29,
   "metadata": {
    "colab": {
     "base_uri": "https://localhost:8080/"
    },
    "id": "occY4p4YDxhB",
    "outputId": "899ad2f3-f404-49cf-b30b-58e10f01c22d"
   },
   "outputs": [
    {
     "name": "stdout",
     "output_type": "stream",
     "text": [
      "\n",
      "Prediction accuracy:\n",
      "88.58%\n",
      "\n",
      "\n",
      "Prediction kappa:\n",
      "77.17%\n",
      "\n"
     ]
    }
   ],
   "source": [
    "#Adaboost classifier Prediction accuracy:88.58% Prediction kappa: 77.17%\n",
    "\n",
    "from sklearn.ensemble import AdaBoostClassifier\n",
    "from sklearn.metrics import accuracy_score\n",
    "clf = AdaBoostClassifier(n_estimators=100, random_state=0)\n",
    "clf.fit(X_train, y_train)\n",
    "scores = clf.predict(X_val)\n",
    "\n",
    "# Show prediction accuracy\n",
    "print('\\nPrediction accuracy:')\n",
    "print('{:.2%}\\n'.format(accuracy_score(y_val, scores)))\n",
    "print('\\nPrediction kappa:')\n",
    "print('{:.2%}\\n'.format(cohen_kappa_score(y_val, scores)))"
   ]
  },
  {
   "cell_type": "code",
   "execution_count": null,
   "metadata": {
    "id": "IzNPZq1ED77f"
   },
   "outputs": [],
   "source": []
  },
  {
   "cell_type": "code",
   "execution_count": null,
   "metadata": {},
   "outputs": [],
   "source": []
  },
  {
   "cell_type": "code",
   "execution_count": null,
   "metadata": {},
   "outputs": [],
   "source": []
  }
 ],
 "metadata": {
  "colab": {
   "collapsed_sections": [],
   "name": "The best for binary classification.ipynb",
   "provenance": []
  },
  "kernelspec": {
   "display_name": "Python 3",
   "language": "python",
   "name": "python3"
  },
  "language_info": {
   "codemirror_mode": {
    "name": "ipython",
    "version": 3
   },
   "file_extension": ".py",
   "mimetype": "text/x-python",
   "name": "python",
   "nbconvert_exporter": "python",
   "pygments_lexer": "ipython3",
   "version": "3.7.9"
  }
 },
 "nbformat": 4,
 "nbformat_minor": 1
}
