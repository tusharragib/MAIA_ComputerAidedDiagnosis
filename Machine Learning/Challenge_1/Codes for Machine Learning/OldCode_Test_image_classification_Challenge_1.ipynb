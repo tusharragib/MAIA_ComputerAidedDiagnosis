{
 "cells": [
  {
   "cell_type": "code",
   "execution_count": 61,
   "metadata": {
    "id": "a6N71YFqk-Gl"
   },
   "outputs": [],
   "source": [
    "import pandas as pd\n",
    "from sklearn.metrics import cohen_kappa_score"
   ]
  },
  {
   "cell_type": "code",
   "execution_count": 62,
   "metadata": {
    "id": "URIbgCc8k_on"
   },
   "outputs": [],
   "source": [
    "#Write here the path to the folder with csv-files\n",
    "data_file=\"files/\" "
   ]
  },
  {
   "cell_type": "code",
   "execution_count": 63,
   "metadata": {
    "id": "e0NIm-N1lD4C"
   },
   "outputs": [],
   "source": [
    "#Reading train features file\n",
    "train_fetures_extraction_les_nv = pd.read_csv(data_file+'train_fetures_extraction_les_nv.csv')\n",
    "train_fetures_extraction_les_nv=train_fetures_extraction_les_nv.drop('lbp_27',axis=1)\n",
    "X_train=train_fetures_extraction_les_nv.drop('name',axis=1)\n",
    "X_train=X_train.drop('class',axis=1)\n",
    "y_train=train_fetures_extraction_les_nv['class']"
   ]
  },
  {
   "cell_type": "code",
   "execution_count": 64,
   "metadata": {
    "id": "j_szW2vjlE7T"
   },
   "outputs": [],
   "source": [
    "#Reading validation features file\n",
    "val_fetures_extraction_les_nv = pd.read_csv(data_file+'val_fetures_extraction_les_nv.csv')\n",
    "val_fetures_extraction_les_nv=val_fetures_extraction_les_nv.drop('lbp_27',axis=1)\n",
    "X_val=val_fetures_extraction_les_nv.drop('name',axis=1)\n",
    "X_val=X_val.drop('class',axis=1)\n",
    "y_val=val_fetures_extraction_les_nv['class']"
   ]
  },
  {
   "cell_type": "code",
   "execution_count": 65,
   "metadata": {
    "id": "bOF7F3vfiqsz"
   },
   "outputs": [],
   "source": [
    "#Reading test features file\n",
    "test_fetures_extraction_les_nv = pd.read_csv(data_file+'TEST_Challenge_1_fetures_extraction_les_nv.csv')\n",
    "test_fetures_extraction_les_nv=test_fetures_extraction_les_nv.drop('lbp_27',axis=1)\n",
    "X_test=test_fetures_extraction_les_nv.drop('name',axis=1)"
   ]
  },
  {
   "cell_type": "code",
   "execution_count": 66,
   "metadata": {
    "id": "ttK7XB6GlF_a"
   },
   "outputs": [],
   "source": [
    "# Applying RobustScaler\n",
    "from sklearn.preprocessing import RobustScaler\n",
    "transformer = RobustScaler()\n",
    "X_train = transformer.fit_transform(X_train)\n",
    "X_val = transformer.transform(X_val) \n",
    "X_test = transformer.transform(X_test) "
   ]
  },
  {
   "cell_type": "code",
   "execution_count": 67,
   "metadata": {
    "id": "4FwkNHXK6Ezg"
   },
   "outputs": [],
   "source": [
    "#Applying Principal component analysis (PCA).\n",
    "from sklearn.decomposition import PCA\n",
    "pca = PCA(n_components=10)\n",
    "X_train = pca.fit_transform(X_train)\n",
    "X_val = pca.transform(X_val)\n",
    "X_test = pca.transform(X_test)"
   ]
  },
  {
   "cell_type": "code",
   "execution_count": 68,
   "metadata": {
    "colab": {
     "base_uri": "https://localhost:8080/"
    },
    "id": "k2RIub-YDDiw",
    "outputId": "5acb23f9-f1e7-4801-fc44-95ac115ef0e2"
   },
   "outputs": [
    {
     "name": "stdout",
     "output_type": "stream",
     "text": [
      "\n",
      "Prediction accuracy for Validation dataset:\n",
      "90.67%\n",
      "\n",
      "\n",
      "Prediction kappa for Validation dataset:\n",
      "81.33%\n",
      "\n"
     ]
    }
   ],
   "source": [
    "#Extratrees classifier Prediction accuracy for Validation dataset: 90.67%. Prediction kappa for Validation dataset: 81.33%\n",
    "\n",
    "from sklearn.ensemble import ExtraTreesClassifier\n",
    "from sklearn.metrics import accuracy_score\n",
    "clf = ExtraTreesClassifier(n_estimators=100, random_state=0)\n",
    "clf.fit(X_train, y_train)\n",
    "scores = clf.predict(X_val)\n",
    "test_scores = clf.predict(X_test)\n",
    "# Show prediction accuracy\n",
    "print('\\nPrediction accuracy for Validation dataset:')\n",
    "print('{:.2%}\\n'.format(accuracy_score(y_val, scores)))\n",
    "print('\\nPrediction kappa for Validation dataset:')\n",
    "print('{:.2%}\\n'.format(cohen_kappa_score(y_val, scores)))"
   ]
  },
  {
   "cell_type": "code",
   "execution_count": 69,
   "metadata": {
    "id": "IzNPZq1ED77f"
   },
   "outputs": [],
   "source": [
    "#Saving scores array to dataframe\n",
    "import numpy as np\n",
    "test_scores = np.array(test_scores)\n",
    "df_test_challenge1 = pd.DataFrame({'labels': list(test_scores)}, columns=['labels'])"
   ]
  },
  {
   "cell_type": "code",
   "execution_count": 70,
   "metadata": {
    "colab": {
     "base_uri": "https://localhost:8080/",
     "height": 418
    },
    "id": "oepLySdTlMNX",
    "outputId": "323c625f-824d-4648-b34a-8fc88f262eac"
   },
   "outputs": [
    {
     "data": {
      "text/plain": [
       "1015"
      ]
     },
     "execution_count": 70,
     "metadata": {},
     "output_type": "execute_result"
    }
   ],
   "source": [
    "len(df_test_challenge1)"
   ]
  },
  {
   "cell_type": "code",
   "execution_count": 71,
   "metadata": {
    "id": "07u_WxQ6lCz-"
   },
   "outputs": [],
   "source": [
    "#Saving dataframe to csv\n",
    "df_test_challenge1.to_csv(data_file+'TEST_Challenge_1_Labels.csv', index = False)"
   ]
  },
  {
   "cell_type": "code",
   "execution_count": null,
   "metadata": {
    "id": "egUJu-n0lcc9"
   },
   "outputs": [],
   "source": []
  }
 ],
 "metadata": {
  "colab": {
   "collapsed_sections": [],
   "name": "Test image classification Challenge 1.ipynb",
   "provenance": []
  },
  "kernelspec": {
   "display_name": "Python 3",
   "language": "python",
   "name": "python3"
  },
  "language_info": {
   "codemirror_mode": {
    "name": "ipython",
    "version": 3
   },
   "file_extension": ".py",
   "mimetype": "text/x-python",
   "name": "python",
   "nbconvert_exporter": "python",
   "pygments_lexer": "ipython3",
   "version": "3.7.9"
  }
 },
 "nbformat": 4,
 "nbformat_minor": 1
}
