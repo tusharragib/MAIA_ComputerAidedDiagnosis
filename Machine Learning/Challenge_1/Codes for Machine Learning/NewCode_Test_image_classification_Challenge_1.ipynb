{
 "cells": [
  {
   "cell_type": "code",
   "execution_count": 165,
   "metadata": {
    "id": "a6N71YFqk-Gl"
   },
   "outputs": [],
   "source": [
    "import pandas as pd\n",
    "from sklearn.metrics import cohen_kappa_score"
   ]
  },
  {
   "cell_type": "code",
   "execution_count": 166,
   "metadata": {
    "id": "URIbgCc8k_on"
   },
   "outputs": [],
   "source": [
    "#Write here the path to the folder with csv-files\n",
    "data_file=\"files/\" "
   ]
  },
  {
   "cell_type": "code",
   "execution_count": 167,
   "metadata": {
    "id": "e0NIm-N1lD4C"
   },
   "outputs": [],
   "source": [
    "#Reading train features file\n",
    "train_fetures_extraction_les_nv = pd.read_csv(data_file+'train_fetures_extraction_les_nv.csv')\n",
    "train_fetures_extraction_les_nv=train_fetures_extraction_les_nv.drop('lbp_27',axis=1)\n",
    "X_train=train_fetures_extraction_les_nv.drop('name',axis=1)\n",
    "X_train=X_train.drop('class',axis=1)\n",
    "y_train=train_fetures_extraction_les_nv['class']"
   ]
  },
  {
   "cell_type": "code",
   "execution_count": 168,
   "metadata": {
    "id": "j_szW2vjlE7T"
   },
   "outputs": [],
   "source": [
    "#Reading validation features file\n",
    "val_fetures_extraction_les_nv = pd.read_csv(data_file+'val_fetures_extraction_les_nv.csv')\n",
    "val_fetures_extraction_les_nv=val_fetures_extraction_les_nv.drop('lbp_27',axis=1)\n",
    "X_val=val_fetures_extraction_les_nv.drop('name',axis=1)\n",
    "X_val=X_val.drop('class',axis=1)\n",
    "y_val=val_fetures_extraction_les_nv['class']"
   ]
  },
  {
   "cell_type": "code",
   "execution_count": 169,
   "metadata": {
    "id": "bOF7F3vfiqsz"
   },
   "outputs": [],
   "source": [
    "#Reading test features file\n",
    "test_fetures_extraction_les_nv = pd.read_csv(data_file+'NEW_TEST_Challenge_1_fetures_extraction_les_nv.csv')\n",
    "FilenameId = test_fetures_extraction_les_nv['name']\n",
    "test_fetures_extraction_les_nv=test_fetures_extraction_les_nv.drop('lbp_27',axis=1)\n",
    "X_test=test_fetures_extraction_les_nv.drop('name',axis=1)"
   ]
  },
  {
   "cell_type": "code",
   "execution_count": 170,
   "metadata": {
    "id": "ttK7XB6GlF_a"
   },
   "outputs": [],
   "source": [
    "# Applying RobustScaler\n",
    "from sklearn.preprocessing import RobustScaler\n",
    "transformer = RobustScaler()\n",
    "X_train = transformer.fit_transform(X_train)\n",
    "X_val = transformer.transform(X_val) \n",
    "X_test = transformer.transform(X_test) "
   ]
  },
  {
   "cell_type": "code",
   "execution_count": 171,
   "metadata": {
    "id": "4FwkNHXK6Ezg"
   },
   "outputs": [],
   "source": [
    "#Applying Principal component analysis (PCA).\n",
    "from sklearn.decomposition import PCA\n",
    "pca = PCA(n_components=10)\n",
    "X_train = pca.fit_transform(X_train)\n",
    "X_val = pca.transform(X_val)\n",
    "X_test = pca.transform(X_test)"
   ]
  },
  {
   "cell_type": "code",
   "execution_count": 172,
   "metadata": {
    "colab": {
     "base_uri": "https://localhost:8080/"
    },
    "id": "k2RIub-YDDiw",
    "outputId": "5acb23f9-f1e7-4801-fc44-95ac115ef0e2"
   },
   "outputs": [
    {
     "name": "stdout",
     "output_type": "stream",
     "text": [
      "\n",
      "Prediction accuracy for Validation dataset:\n",
      "90.75%\n",
      "\n",
      "\n",
      "Prediction kappa for Validation dataset:\n",
      "81.50%\n",
      "\n"
     ]
    }
   ],
   "source": [
    "#Extratrees classifier Prediction accuracy for Validation dataset: 90.67%. Prediction kappa for Validation dataset: 81.33%\n",
    "\n",
    "from sklearn.ensemble import ExtraTreesClassifier\n",
    "from sklearn.metrics import accuracy_score\n",
    "clf = ExtraTreesClassifier(n_estimators=100, random_state=0)\n",
    "clf.fit(X_train, y_train)\n",
    "scores = clf.predict(X_val)\n",
    "test_scores = clf.predict(X_test)\n",
    "# Show prediction accuracy\n",
    "print('\\nPrediction accuracy for Validation dataset:')\n",
    "print('{:.2%}\\n'.format(accuracy_score(y_val, scores)))\n",
    "print('\\nPrediction kappa for Validation dataset:')\n",
    "print('{:.2%}\\n'.format(cohen_kappa_score(y_val, scores)))"
   ]
  },
  {
   "cell_type": "code",
   "execution_count": 173,
   "metadata": {},
   "outputs": [
    {
     "data": {
      "text/plain": [
       "array([1., 0., 1., ..., 0., 1., 1.])"
      ]
     },
     "execution_count": 173,
     "metadata": {},
     "output_type": "execute_result"
    }
   ],
   "source": [
    "test_scores"
   ]
  },
  {
   "cell_type": "code",
   "execution_count": 174,
   "metadata": {},
   "outputs": [
    {
     "data": {
      "text/plain": [
       "0       xx0001.jpg\n",
       "1       xx0002.jpg\n",
       "2       xx0003.jpg\n",
       "3       xx0004.jpg\n",
       "4       xx0005.jpg\n",
       "           ...    \n",
       "1010    xx1011.jpg\n",
       "1011    xx1012.jpg\n",
       "1012    xx1013.jpg\n",
       "1013    xx1014.jpg\n",
       "1014    xx1015.jpg\n",
       "Name: name, Length: 1015, dtype: object"
      ]
     },
     "execution_count": 174,
     "metadata": {},
     "output_type": "execute_result"
    }
   ],
   "source": [
    "FilenameId"
   ]
  },
  {
   "cell_type": "code",
   "execution_count": 175,
   "metadata": {
    "id": "IzNPZq1ED77f"
   },
   "outputs": [],
   "source": [
    "#Saving scores array to dataframe\n",
    "import numpy as np\n",
    "#test_scores = np.array(test_scores)\n",
    "df_test_challenge1 = pd.DataFrame({'name': FilenameId,'labels': list(test_scores)}, columns=['name', 'labels'])"
   ]
  },
  {
   "cell_type": "code",
   "execution_count": 176,
   "metadata": {
    "colab": {
     "base_uri": "https://localhost:8080/",
     "height": 418
    },
    "id": "oepLySdTlMNX",
    "outputId": "323c625f-824d-4648-b34a-8fc88f262eac"
   },
   "outputs": [
    {
     "data": {
      "text/html": [
       "<div>\n",
       "<style scoped>\n",
       "    .dataframe tbody tr th:only-of-type {\n",
       "        vertical-align: middle;\n",
       "    }\n",
       "\n",
       "    .dataframe tbody tr th {\n",
       "        vertical-align: top;\n",
       "    }\n",
       "\n",
       "    .dataframe thead th {\n",
       "        text-align: right;\n",
       "    }\n",
       "</style>\n",
       "<table border=\"1\" class=\"dataframe\">\n",
       "  <thead>\n",
       "    <tr style=\"text-align: right;\">\n",
       "      <th></th>\n",
       "      <th>name</th>\n",
       "      <th>labels</th>\n",
       "    </tr>\n",
       "  </thead>\n",
       "  <tbody>\n",
       "    <tr>\n",
       "      <th>1010</th>\n",
       "      <td>xx1011.jpg</td>\n",
       "      <td>1.0</td>\n",
       "    </tr>\n",
       "    <tr>\n",
       "      <th>1011</th>\n",
       "      <td>xx1012.jpg</td>\n",
       "      <td>1.0</td>\n",
       "    </tr>\n",
       "    <tr>\n",
       "      <th>1012</th>\n",
       "      <td>xx1013.jpg</td>\n",
       "      <td>0.0</td>\n",
       "    </tr>\n",
       "    <tr>\n",
       "      <th>1013</th>\n",
       "      <td>xx1014.jpg</td>\n",
       "      <td>1.0</td>\n",
       "    </tr>\n",
       "    <tr>\n",
       "      <th>1014</th>\n",
       "      <td>xx1015.jpg</td>\n",
       "      <td>1.0</td>\n",
       "    </tr>\n",
       "  </tbody>\n",
       "</table>\n",
       "</div>"
      ],
      "text/plain": [
       "            name  labels\n",
       "1010  xx1011.jpg     1.0\n",
       "1011  xx1012.jpg     1.0\n",
       "1012  xx1013.jpg     0.0\n",
       "1013  xx1014.jpg     1.0\n",
       "1014  xx1015.jpg     1.0"
      ]
     },
     "execution_count": 176,
     "metadata": {},
     "output_type": "execute_result"
    }
   ],
   "source": [
    "df_test_challenge1.tail()"
   ]
  },
  {
   "cell_type": "code",
   "execution_count": 177,
   "metadata": {
    "id": "07u_WxQ6lCz-"
   },
   "outputs": [],
   "source": [
    "#Saving dataframe to csv\n",
    "df_test_challenge1.to_csv(data_file+'NEW_TEST_Challenge_1_Labels.csv', index = False)"
   ]
  },
  {
   "cell_type": "code",
   "execution_count": null,
   "metadata": {
    "id": "egUJu-n0lcc9"
   },
   "outputs": [],
   "source": []
  },
  {
   "cell_type": "code",
   "execution_count": null,
   "metadata": {},
   "outputs": [],
   "source": []
  }
 ],
 "metadata": {
  "colab": {
   "collapsed_sections": [],
   "name": "Test image classification Challenge 1.ipynb",
   "provenance": []
  },
  "kernelspec": {
   "display_name": "Python 3",
   "language": "python",
   "name": "python3"
  },
  "language_info": {
   "codemirror_mode": {
    "name": "ipython",
    "version": 3
   },
   "file_extension": ".py",
   "mimetype": "text/x-python",
   "name": "python",
   "nbconvert_exporter": "python",
   "pygments_lexer": "ipython3",
   "version": "3.7.9"
  }
 },
 "nbformat": 4,
 "nbformat_minor": 1
}
