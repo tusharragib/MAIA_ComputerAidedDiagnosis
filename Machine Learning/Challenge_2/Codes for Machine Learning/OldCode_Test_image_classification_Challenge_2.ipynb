{
 "cells": [
  {
   "cell_type": "code",
   "execution_count": 13,
   "metadata": {
    "id": "7awTgMfagYgk"
   },
   "outputs": [],
   "source": [
    "import pandas as pd\n",
    "from sklearn.metrics import cohen_kappa_score"
   ]
  },
  {
   "cell_type": "code",
   "execution_count": 14,
   "metadata": {
    "id": "MYk8YWezg02z"
   },
   "outputs": [],
   "source": [
    "#Write here the path to the folder with csv-files\n",
    "data_file=\"files/\" "
   ]
  },
  {
   "cell_type": "code",
   "execution_count": 15,
   "metadata": {
    "id": "TNLP47Hxg4XM"
   },
   "outputs": [],
   "source": [
    "#Reading train features file\n",
    "train_fetures_extraction_bcc_bkl_mel = pd.read_csv(data_file+'train_fetures_extraction_bcc_bkl_mel.csv')\n",
    "train_fetures_extraction_bcc_bkl_mel=train_fetures_extraction_bcc_bkl_mel.drop('lbp_27',axis=1)\n",
    "X_train_multi=train_fetures_extraction_bcc_bkl_mel.drop('name',axis=1)\n",
    "X_train_multi=X_train_multi.drop('class',axis=1)\n",
    "y_train_multi=train_fetures_extraction_bcc_bkl_mel['class']"
   ]
  },
  {
   "cell_type": "code",
   "execution_count": 16,
   "metadata": {
    "id": "4ZFXhTFYhAoq"
   },
   "outputs": [],
   "source": [
    "#Reading validation features file\n",
    "val_fetures_extraction_bcc_bkl_mel = pd.read_csv(data_file+'val_fetures_extraction_bcc_bkl_mel.csv')\n",
    "val_fetures_extraction_bcc_bkl_mel=val_fetures_extraction_bcc_bkl_mel.drop('lbp_27',axis=1)\n",
    "X_val_multi=val_fetures_extraction_bcc_bkl_mel.drop('name',axis=1)\n",
    "X_val_multi=X_val_multi.drop('class',axis=1)\n",
    "y_val_multi=val_fetures_extraction_bcc_bkl_mel['class']"
   ]
  },
  {
   "cell_type": "code",
   "execution_count": 17,
   "metadata": {
    "id": "TJOHQYo_2B_O"
   },
   "outputs": [],
   "source": [
    "#Reading test features file\n",
    "TEST_Challenge_2_fetures_extraction_bcc_bkl_mel = pd.read_csv(data_file+'TEST_Challenge_2_fetures_extraction_bcc_bkl_mel.csv')\n",
    "TEST_Challenge_2_fetures_extraction_bcc_bkl_mel=TEST_Challenge_2_fetures_extraction_bcc_bkl_mel.drop('lbp_27',axis=1)\n",
    "X_test_multi=TEST_Challenge_2_fetures_extraction_bcc_bkl_mel.drop('name',axis=1)"
   ]
  },
  {
   "cell_type": "code",
   "execution_count": 18,
   "metadata": {
    "id": "ZDO5Tghe8F5k"
   },
   "outputs": [],
   "source": [
    "#Applying Principal component analysis (PCA).\n",
    "from sklearn.decomposition import PCA\n",
    "pca = PCA(n_components=40)\n",
    "X_train_multi = pca.fit_transform(X_train_multi)\n",
    "X_val_multi = pca.transform(X_val_multi)\n",
    "X_test_multi = pca.transform(X_test_multi)"
   ]
  },
  {
   "cell_type": "code",
   "execution_count": 19,
   "metadata": {
    "colab": {
     "base_uri": "https://localhost:8080/"
    },
    "id": "k-S1dGOzw1iS",
    "outputId": "031e04df-9751-44b3-b041-e133d7fe068e"
   },
   "outputs": [
    {
     "name": "stdout",
     "output_type": "stream",
     "text": [
      "[LibSVM]\n",
      "Prediction accuracy:\n",
      "73.20%\n",
      "\n",
      "\n",
      "Prediction kappa:\n",
      "57.94%\n",
      "\n"
     ]
    }
   ],
   "source": [
    "#Applying the best classsifier Prediction accuracy: 73.20%. Prediction kappa: 57.94%\n",
    "from sklearn.svm import SVC\n",
    "from sklearn.pipeline import Pipeline, make_pipeline\n",
    "from sklearn.metrics import accuracy_score\n",
    "import pandas as pd\n",
    "from sklearn import svm\n",
    "from sklearn.preprocessing import StandardScaler\n",
    "\n",
    "svc_pipeline = make_pipeline(StandardScaler(), \n",
    "                             svm.SVC(cache_size=1000, \n",
    "                                     verbose=True, \n",
    "                                     C=23, kernel='poly', \n",
    "                                     degree=3, gamma='scale', \n",
    "                                     decision_function_shape='ovr'))\n",
    "svc_pipeline.fit(X_train_multi, y_train_multi)\n",
    "\n",
    "scores = svc_pipeline.predict(X_val_multi)\n",
    "\n",
    "test_scores_multi = svc_pipeline.predict(X_test_multi)\n",
    "\n",
    "# Show prediction accuracy\n",
    "print('\\nPrediction accuracy:')\n",
    "print('{:.2%}\\n'.format(accuracy_score(y_val_multi, scores)))\n",
    "print('\\nPrediction kappa:')\n",
    "print('{:.2%}\\n'.format(cohen_kappa_score(y_val_multi, scores)))"
   ]
  },
  {
   "cell_type": "code",
   "execution_count": 20,
   "metadata": {
    "id": "Aonzv7XGvaRg"
   },
   "outputs": [],
   "source": [
    "#Saving scores array to dataframe\n",
    "import numpy as np\n",
    "test_scores_multi = np.array(test_scores_multi)\n",
    "df_test_challenge2 = pd.DataFrame({'labels': list(test_scores_multi)}, columns=['labels'])"
   ]
  },
  {
   "cell_type": "code",
   "execution_count": 21,
   "metadata": {
    "colab": {
     "base_uri": "https://localhost:8080/",
     "height": 418
    },
    "id": "kg2NsRg_2UCB",
    "outputId": "12656a50-93d9-4a98-e077-0d5b9549da11"
   },
   "outputs": [
    {
     "data": {
      "text/plain": [
       "226"
      ]
     },
     "execution_count": 21,
     "metadata": {},
     "output_type": "execute_result"
    }
   ],
   "source": [
    "len(df_test_challenge2)"
   ]
  },
  {
   "cell_type": "code",
   "execution_count": 22,
   "metadata": {
    "id": "eplaj7Y42UIR"
   },
   "outputs": [],
   "source": [
    "#Saving dataframe to csv\n",
    "df_test_challenge2.to_csv(data_file+'TEST_Challenge_2_Labels.csv', index = False)"
   ]
  },
  {
   "cell_type": "code",
   "execution_count": null,
   "metadata": {
    "id": "hE3VnBFG8ZjE"
   },
   "outputs": [],
   "source": []
  },
  {
   "cell_type": "code",
   "execution_count": null,
   "metadata": {
    "id": "OlMPs9Ys4dAa"
   },
   "outputs": [],
   "source": []
  }
 ],
 "metadata": {
  "colab": {
   "collapsed_sections": [],
   "name": "Test image classification Challenge 2.ipynb",
   "provenance": []
  },
  "kernelspec": {
   "display_name": "Python 3",
   "language": "python",
   "name": "python3"
  },
  "language_info": {
   "codemirror_mode": {
    "name": "ipython",
    "version": 3
   },
   "file_extension": ".py",
   "mimetype": "text/x-python",
   "name": "python",
   "nbconvert_exporter": "python",
   "pygments_lexer": "ipython3",
   "version": "3.7.9"
  }
 },
 "nbformat": 4,
 "nbformat_minor": 1
}
