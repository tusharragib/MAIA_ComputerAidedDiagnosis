{
 "cells": [
  {
   "cell_type": "code",
   "execution_count": 31,
   "metadata": {
    "id": "7awTgMfagYgk"
   },
   "outputs": [],
   "source": [
    "import pandas as pd\n",
    "from sklearn.metrics import cohen_kappa_score"
   ]
  },
  {
   "cell_type": "code",
   "execution_count": 32,
   "metadata": {
    "id": "MYk8YWezg02z"
   },
   "outputs": [],
   "source": [
    "#Write here the path to the folder with csv-files\n",
    "data_file=\"files/\" "
   ]
  },
  {
   "cell_type": "code",
   "execution_count": 33,
   "metadata": {
    "id": "TNLP47Hxg4XM"
   },
   "outputs": [],
   "source": [
    "#Reading train features file\n",
    "train_fetures_extraction_bcc_bkl_mel = pd.read_csv(data_file+'train_fetures_extraction_bcc_bkl_mel.csv')\n",
    "train_fetures_extraction_bcc_bkl_mel=train_fetures_extraction_bcc_bkl_mel.drop('lbp_27',axis=1)\n",
    "X_train_multi=train_fetures_extraction_bcc_bkl_mel.drop('name',axis=1)\n",
    "X_train_multi=X_train_multi.drop('class',axis=1)\n",
    "y_train_multi=train_fetures_extraction_bcc_bkl_mel['class']"
   ]
  },
  {
   "cell_type": "code",
   "execution_count": 34,
   "metadata": {
    "id": "4ZFXhTFYhAoq"
   },
   "outputs": [],
   "source": [
    "#Reading validation features file\n",
    "val_fetures_extraction_bcc_bkl_mel = pd.read_csv(data_file+'val_fetures_extraction_bcc_bkl_mel.csv')\n",
    "val_fetures_extraction_bcc_bkl_mel=val_fetures_extraction_bcc_bkl_mel.drop('lbp_27',axis=1)\n",
    "X_val_multi=val_fetures_extraction_bcc_bkl_mel.drop('name',axis=1)\n",
    "X_val_multi=X_val_multi.drop('class',axis=1)\n",
    "y_val_multi=val_fetures_extraction_bcc_bkl_mel['class']"
   ]
  },
  {
   "cell_type": "code",
   "execution_count": 35,
   "metadata": {
    "id": "ZDO5Tghe8F5k"
   },
   "outputs": [],
   "source": [
    "#Applying Principal component analysis (PCA).\n",
    "from sklearn.decomposition import PCA\n",
    "pca = PCA(n_components=40)\n",
    "X_train_multi = pca.fit_transform(X_train_multi)\n",
    "X_val_multi = pca.transform(X_val_multi)"
   ]
  },
  {
   "cell_type": "code",
   "execution_count": 36,
   "metadata": {
    "colab": {
     "base_uri": "https://localhost:8080/"
    },
    "id": "k-S1dGOzw1iS",
    "outputId": "5a99bb4b-5a21-4d2a-d09c-e7077288c91e"
   },
   "outputs": [
    {
     "name": "stdout",
     "output_type": "stream",
     "text": [
      "[LibSVM]\n",
      "Prediction accuracy:\n",
      "73.20%\n",
      "\n",
      "\n",
      "Prediction kappa:\n",
      "57.94%\n",
      "\n"
     ]
    }
   ],
   "source": [
    "#SVC Prediction accuracy: 73.20%. Prediction kappa: 57.94%\n",
    "from sklearn.svm import SVC\n",
    "from sklearn.pipeline import Pipeline, make_pipeline\n",
    "from sklearn.metrics import accuracy_score\n",
    "import pandas as pd\n",
    "from sklearn import svm\n",
    "from sklearn.preprocessing import StandardScaler\n",
    "svc_pipeline = make_pipeline(StandardScaler(), svm.SVC(cache_size=1000, verbose=True, C=23, kernel='poly', degree=3, gamma='scale', decision_function_shape='ovr'))\n",
    "svc_pipeline.fit(X_train_multi, y_train_multi)\n",
    "scores = svc_pipeline.predict(X_val_multi)\n",
    "# Show prediction accuracy\n",
    "print('\\nPrediction accuracy:')\n",
    "print('{:.2%}\\n'.format(accuracy_score(y_val_multi, scores)))\n",
    "print('\\nPrediction kappa:')\n",
    "print('{:.2%}\\n'.format(cohen_kappa_score(y_val_multi, scores)))"
   ]
  },
  {
   "cell_type": "code",
   "execution_count": 37,
   "metadata": {
    "colab": {
     "base_uri": "https://localhost:8080/"
    },
    "id": "hXY-bsu-hCOf",
    "outputId": "aa434b97-deab-4f39-d098-53900f7d75fd"
   },
   "outputs": [
    {
     "name": "stdout",
     "output_type": "stream",
     "text": [
      "\n",
      "Prediction accuracy:\n",
      "66.00%\n",
      "\n",
      "\n",
      "Prediction kappa:\n",
      "46.41%\n",
      "\n"
     ]
    }
   ],
   "source": [
    "#AdaBoostClassifier Prediction accuracy: 66.00%. Prediction kappa: 46.41%\n",
    "from sklearn.multiclass import OneVsRestClassifier\n",
    "from sklearn.svm import SVC\n",
    "from sklearn.metrics import accuracy_score\n",
    "from sklearn.ensemble import AdaBoostClassifier\n",
    "ovo = OneVsRestClassifier(estimator=AdaBoostClassifier(n_estimators=100, random_state=0))\n",
    "\n",
    "ovo.fit(X_train_multi, y_train_multi)\n",
    "scores = ovo.predict(X_val_multi)\n",
    "\n",
    "# Show prediction accuracy\n",
    "print('\\nPrediction accuracy:')\n",
    "print('{:.2%}\\n'.format(accuracy_score(y_val_multi, scores)))\n",
    "print('\\nPrediction kappa:')\n",
    "print('{:.2%}\\n'.format(cohen_kappa_score(y_val_multi, scores)))"
   ]
  },
  {
   "cell_type": "code",
   "execution_count": 38,
   "metadata": {
    "colab": {
     "base_uri": "https://localhost:8080/"
    },
    "id": "07kgcVtdz_of",
    "outputId": "36fdc6ac-1307-4c09-bac5-4b2c606a9562"
   },
   "outputs": [
    {
     "name": "stdout",
     "output_type": "stream",
     "text": [
      "\n",
      "Prediction accuracy:\n",
      "69.60%\n",
      "\n",
      "\n",
      "Prediction kappa:\n",
      "51.62%\n",
      "\n"
     ]
    }
   ],
   "source": [
    "#RandomForestClassifier Prediction accuracy: 69.60%. Prediction kappa: 51.62%\n",
    "\n",
    "from sklearn.multiclass import OneVsRestClassifier\n",
    "from sklearn.metrics import accuracy_score\n",
    "from sklearn.ensemble import RandomForestClassifier\n",
    "ovo = OneVsRestClassifier(estimator = RandomForestClassifier(n_estimators=100, max_depth = 10, random_state=0))\n",
    "\n",
    "ovo.fit(X_train_multi, y_train_multi)\n",
    "scores = ovo.predict(X_val_multi)\n",
    "\n",
    "# Show prediction accuracy\n",
    "print('\\nPrediction accuracy:')\n",
    "print('{:.2%}\\n'.format(accuracy_score(y_val_multi, scores)))\n",
    "print('\\nPrediction kappa:')\n",
    "print('{:.2%}\\n'.format(cohen_kappa_score(y_val_multi, scores)))"
   ]
  },
  {
   "cell_type": "code",
   "execution_count": 39,
   "metadata": {
    "colab": {
     "base_uri": "https://localhost:8080/"
    },
    "id": "HubSUfQZinJc",
    "outputId": "eefa0a96-4060-4268-8cab-5dfda999d892"
   },
   "outputs": [
    {
     "name": "stdout",
     "output_type": "stream",
     "text": [
      "\n",
      "Prediction accuracy:\n",
      "71.60%\n",
      "\n",
      "\n",
      "Prediction kappa:\n",
      "55.09%\n",
      "\n"
     ]
    }
   ],
   "source": [
    "#GradientBoostingClassifier Prediction accuracy: 71.20%. Prediction kappa: 54.46%\n",
    "from sklearn.ensemble import GradientBoostingClassifier\n",
    "from sklearn.multiclass import OneVsOneClassifier\n",
    "from sklearn.metrics import accuracy_score\n",
    "ovo = OneVsOneClassifier(estimator=GradientBoostingClassifier())\n",
    "\n",
    "ovo.fit(X_train_multi, y_train_multi)\n",
    "scores = ovo.predict(X_val_multi)\n",
    "\n",
    "# Show prediction accuracy\n",
    "print('\\nPrediction accuracy:')\n",
    "print('{:.2%}\\n'.format(accuracy_score(y_val_multi, scores)))\n",
    "print('\\nPrediction kappa:')\n",
    "print('{:.2%}\\n'.format(cohen_kappa_score(y_val_multi, scores)))"
   ]
  },
  {
   "cell_type": "code",
   "execution_count": 40,
   "metadata": {
    "colab": {
     "base_uri": "https://localhost:8080/"
    },
    "id": "WeN2vKeSjM42",
    "outputId": "6ec69e06-ab78-4d41-dbf2-9a66c0db539f"
   },
   "outputs": [
    {
     "name": "stdout",
     "output_type": "stream",
     "text": [
      "\n",
      "Prediction accuracy:\n",
      "64.80%\n",
      "\n",
      "\n",
      "Prediction kappa:\n",
      "44.55%\n",
      "\n"
     ]
    }
   ],
   "source": [
    "#GradientBoostingClassifier Prediction accuracy: 64.80%. Prediction kappa: 44.55%\n",
    "from sklearn.ensemble import GradientBoostingClassifier\n",
    "from sklearn.multiclass import OneVsOneClassifier\n",
    "from sklearn.metrics import accuracy_score\n",
    "ovo = OneVsOneClassifier(estimator=GradientBoostingClassifier(n_estimators=100, learning_rate=1.0, max_depth=1, random_state=0))\n",
    "\n",
    "ovo.fit(X_train_multi, y_train_multi)\n",
    "scores = ovo.predict(X_val_multi)\n",
    "\n",
    "# Show prediction accuracy\n",
    "print('\\nPrediction accuracy:')\n",
    "print('{:.2%}\\n'.format(accuracy_score(y_val_multi, scores)))\n",
    "print('\\nPrediction kappa:')\n",
    "print('{:.2%}\\n'.format(cohen_kappa_score(y_val_multi, scores)))"
   ]
  },
  {
   "cell_type": "code",
   "execution_count": 41,
   "metadata": {
    "colab": {
     "base_uri": "https://localhost:8080/"
    },
    "id": "8FFkUKdBjpOr",
    "outputId": "ea5f4776-0ac1-4474-c3bd-12e3b9003920"
   },
   "outputs": [
    {
     "name": "stdout",
     "output_type": "stream",
     "text": [
      "\n",
      "Prediction accuracy:\n",
      "33.80%\n",
      "\n",
      "\n",
      "Prediction kappa:\n",
      "7.75%\n",
      "\n"
     ]
    }
   ],
   "source": [
    "#GaussianProcessClassifier Prediction accuracy: 33.80%.  Prediction kappa: 7.75%\n",
    "from sklearn.gaussian_process import GaussianProcessClassifier\n",
    "from sklearn.multiclass import OneVsOneClassifier\n",
    "from sklearn.gaussian_process.kernels import RBF\n",
    "from sklearn.metrics import accuracy_score\n",
    "ovo = OneVsOneClassifier(estimator=GaussianProcessClassifier(multi_class='one_vs_rest'))\n",
    "\n",
    "ovo.fit(X_train_multi, y_train_multi)\n",
    "scores = ovo.predict(X_val_multi)\n",
    "\n",
    "# Show prediction accuracy\n",
    "print('\\nPrediction accuracy:')\n",
    "print('{:.2%}\\n'.format(accuracy_score(y_val_multi, scores)))\n",
    "print('\\nPrediction kappa:')\n",
    "print('{:.2%}\\n'.format(cohen_kappa_score(y_val_multi, scores)))"
   ]
  },
  {
   "cell_type": "code",
   "execution_count": 42,
   "metadata": {
    "colab": {
     "base_uri": "https://localhost:8080/"
    },
    "id": "wUK1yzjckrHV",
    "outputId": "a57aba70-59bf-43a8-f5b6-f29eae1b7111"
   },
   "outputs": [
    {
     "name": "stderr",
     "output_type": "stream",
     "text": [
      "c:\\users\\hp\\appdata\\local\\programs\\python\\python37\\lib\\site-packages\\sklearn\\linear_model\\_logistic.py:765: ConvergenceWarning: lbfgs failed to converge (status=1):\n",
      "STOP: TOTAL NO. of ITERATIONS REACHED LIMIT.\n",
      "\n",
      "Increase the number of iterations (max_iter) or scale the data as shown in:\n",
      "    https://scikit-learn.org/stable/modules/preprocessing.html\n",
      "Please also refer to the documentation for alternative solver options:\n",
      "    https://scikit-learn.org/stable/modules/linear_model.html#logistic-regression\n",
      "  extra_warning_msg=_LOGISTIC_SOLVER_CONVERGENCE_MSG)\n",
      "c:\\users\\hp\\appdata\\local\\programs\\python\\python37\\lib\\site-packages\\sklearn\\linear_model\\_logistic.py:765: ConvergenceWarning: lbfgs failed to converge (status=1):\n",
      "STOP: TOTAL NO. of ITERATIONS REACHED LIMIT.\n",
      "\n",
      "Increase the number of iterations (max_iter) or scale the data as shown in:\n",
      "    https://scikit-learn.org/stable/modules/preprocessing.html\n",
      "Please also refer to the documentation for alternative solver options:\n",
      "    https://scikit-learn.org/stable/modules/linear_model.html#logistic-regression\n",
      "  extra_warning_msg=_LOGISTIC_SOLVER_CONVERGENCE_MSG)\n"
     ]
    },
    {
     "name": "stdout",
     "output_type": "stream",
     "text": [
      "\n",
      "Prediction accuracy:\n",
      "60.00%\n",
      "\n",
      "\n",
      "Prediction kappa:\n",
      "36.02%\n",
      "\n"
     ]
    },
    {
     "name": "stderr",
     "output_type": "stream",
     "text": [
      "c:\\users\\hp\\appdata\\local\\programs\\python\\python37\\lib\\site-packages\\sklearn\\linear_model\\_logistic.py:765: ConvergenceWarning: lbfgs failed to converge (status=1):\n",
      "STOP: TOTAL NO. of ITERATIONS REACHED LIMIT.\n",
      "\n",
      "Increase the number of iterations (max_iter) or scale the data as shown in:\n",
      "    https://scikit-learn.org/stable/modules/preprocessing.html\n",
      "Please also refer to the documentation for alternative solver options:\n",
      "    https://scikit-learn.org/stable/modules/linear_model.html#logistic-regression\n",
      "  extra_warning_msg=_LOGISTIC_SOLVER_CONVERGENCE_MSG)\n"
     ]
    }
   ],
   "source": [
    "#LogisticRegression Prediction accuracy: 60.00%. Prediction kappa: 36.02%\n",
    "\n",
    "from sklearn.metrics import accuracy_score\n",
    "from sklearn.datasets import make_classification\n",
    "from sklearn.linear_model import LogisticRegression\n",
    "from sklearn.multiclass import OneVsRestClassifier\n",
    "\n",
    "model = LogisticRegression()\n",
    "\n",
    "ovr = OneVsRestClassifier(model)\n",
    "ovr.fit(X_train_multi, y_train_multi)\n",
    "scores = ovr.predict(X_val_multi)\n",
    "print('\\nPrediction accuracy:')\n",
    "print('{:.2%}\\n'.format(accuracy_score(y_val_multi, scores)))\n",
    "print('\\nPrediction kappa:')\n",
    "print('{:.2%}\\n'.format(cohen_kappa_score(y_val_multi, scores)))"
   ]
  },
  {
   "cell_type": "code",
   "execution_count": 43,
   "metadata": {
    "colab": {
     "base_uri": "https://localhost:8080/"
    },
    "id": "tXmmmzNYk0Lr",
    "outputId": "89aed43e-0f46-492a-d251-d9cc60533c60"
   },
   "outputs": [
    {
     "name": "stdout",
     "output_type": "stream",
     "text": [
      "\n",
      "Prediction accuracy:\n",
      "50.80%\n",
      "\n",
      "\n",
      "Prediction kappa:\n",
      "18.00%\n",
      "\n"
     ]
    }
   ],
   "source": [
    "#SVC Prediction accuracy: 50.80%. Prediction kappa: 18.00%\n",
    "\n",
    "from sklearn.svm import SVC\n",
    "model = SVC(decision_function_shape='ovo')\n",
    "\n",
    "model.fit(X_train_multi, y_train_multi)\n",
    "scores = model.predict(X_val_multi)\n",
    "print('\\nPrediction accuracy:')\n",
    "print('{:.2%}\\n'.format(accuracy_score(y_val_multi, scores)))\n",
    "print('\\nPrediction kappa:')\n",
    "print('{:.2%}\\n'.format(cohen_kappa_score(y_val_multi, scores)))"
   ]
  },
  {
   "cell_type": "code",
   "execution_count": 44,
   "metadata": {
    "colab": {
     "base_uri": "https://localhost:8080/"
    },
    "id": "98o37GdgnrEe",
    "outputId": "ec71f813-96b3-43ad-aeae-010aee30d3e7"
   },
   "outputs": [
    {
     "name": "stdout",
     "output_type": "stream",
     "text": [
      "\n",
      "Prediction accuracy:\n",
      "66.00%\n",
      "\n",
      "\n",
      "Prediction kappa:\n",
      "46.41%\n",
      "\n"
     ]
    }
   ],
   "source": [
    "#AdaBoostClassifier Prediction accuracy: 66.00%. Prediction kappa: 46.41%\n",
    "from sklearn.multiclass import OneVsOneClassifier\n",
    "from sklearn.svm import SVC\n",
    "from sklearn.metrics import accuracy_score\n",
    "\n",
    "ovo = OneVsRestClassifier(estimator=AdaBoostClassifier(n_estimators=100, random_state=0))\n",
    "\n",
    "ovo.fit(X_train_multi, y_train_multi)\n",
    "scores = ovo.predict(X_val_multi)\n",
    "\n",
    "# Show prediction accuracy\n",
    "print('\\nPrediction accuracy:')\n",
    "print('{:.2%}\\n'.format(accuracy_score(y_val_multi, scores)))\n",
    "print('\\nPrediction kappa:')\n",
    "print('{:.2%}\\n'.format(cohen_kappa_score(y_val_multi, scores)))\n"
   ]
  },
  {
   "cell_type": "code",
   "execution_count": 45,
   "metadata": {
    "colab": {
     "base_uri": "https://localhost:8080/"
    },
    "id": "cbj0RGBWovzJ",
    "outputId": "94b62df8-afa5-45eb-edfe-01290516ed3e"
   },
   "outputs": [
    {
     "name": "stdout",
     "output_type": "stream",
     "text": [
      "\n",
      "Prediction accuracy:\n",
      "58.60%\n",
      "\n",
      "\n",
      "Prediction kappa:\n",
      "37.95%\n",
      "\n"
     ]
    }
   ],
   "source": [
    "#VotingClassifier Prediction accuracy: 58.60%. Prediction kappa: 37.95%\n",
    "\n",
    "from sklearn.model_selection import GridSearchCV, StratifiedKFold\n",
    "from sklearn.pipeline import Pipeline, make_pipeline\n",
    "from sklearn.metrics import accuracy_score\n",
    "import pandas as pd\n",
    "from sklearn import svm\n",
    "from sklearn.preprocessing import StandardScaler\n",
    "from sklearn.naive_bayes import GaussianNB\n",
    "from sklearn.ensemble import VotingClassifier\n",
    "classifiers = [\n",
    "                  ('bayes', GaussianNB()),\n",
    "                  ('logisticregression', LogisticRegression()),\n",
    "                  ('svc', SVC(gamma='auto')),\n",
    "              ]\n",
    "clf = VotingClassifier(classifiers, n_jobs=-1)\n",
    "clf.fit(X_train_multi, y_train_multi)\n",
    "# make predictions\n",
    "scores = clf.predict(X_val_multi)\n",
    "# Show prediction accuracy\n",
    "print('\\nPrediction accuracy:')\n",
    "print('{:.2%}\\n'.format(accuracy_score(y_val_multi, scores)))\n",
    "print('\\nPrediction kappa:')\n",
    "print('{:.2%}\\n'.format(cohen_kappa_score(y_val_multi, scores)))\n"
   ]
  },
  {
   "cell_type": "code",
   "execution_count": 46,
   "metadata": {
    "colab": {
     "base_uri": "https://localhost:8080/"
    },
    "id": "KkGybxRysJVc",
    "outputId": "8cf155ab-0566-498e-b51c-740388975c21"
   },
   "outputs": [
    {
     "name": "stdout",
     "output_type": "stream",
     "text": [
      "\n",
      "Prediction accuracy:\n",
      "64.80%\n",
      "\n",
      "\n",
      "Prediction kappa:\n",
      "44.55%\n",
      "\n"
     ]
    }
   ],
   "source": [
    "#GradientBoostingClassifier Prediction accuracy: 64.80%. Prediction kappa: 44.55%\n",
    "\n",
    "from sklearn.ensemble import GradientBoostingClassifier\n",
    "from sklearn.multiclass import OneVsOneClassifier\n",
    "from sklearn.svm import SVC\n",
    "from sklearn.metrics import accuracy_score\n",
    "ovo = OneVsOneClassifier(estimator=GradientBoostingClassifier(n_estimators=100, learning_rate=1.0, max_depth=1, random_state=0))\n",
    "\n",
    "ovo.fit(X_train_multi, y_train_multi)\n",
    "scores = ovo.predict(X_val_multi)\n",
    "\n",
    "# Show prediction accuracy\n",
    "print('\\nPrediction accuracy:')\n",
    "print('{:.2%}\\n'.format(accuracy_score(y_val_multi, scores)))\n",
    "print('\\nPrediction kappa:')\n",
    "print('{:.2%}\\n'.format(cohen_kappa_score(y_val_multi, scores)))"
   ]
  },
  {
   "cell_type": "code",
   "execution_count": 47,
   "metadata": {
    "colab": {
     "base_uri": "https://localhost:8080/"
    },
    "id": "bDI4YVi_p_JA",
    "outputId": "a47567c0-4ce4-4def-967d-4701cb34709a"
   },
   "outputs": [
    {
     "name": "stdout",
     "output_type": "stream",
     "text": [
      "\n",
      "Prediction accuracy:\n",
      "64.80%\n",
      "\n",
      "\n",
      "Prediction kappa:\n",
      "44.55%\n",
      "\n"
     ]
    }
   ],
   "source": [
    "# RandomForestClassifier Prediction accuracy: 64.80%. Prediction kappa: 44.55%\n",
    "\n",
    "from sklearn.multiclass import OneVsRestClassifier\n",
    "from sklearn.ensemble import RandomForestClassifier\n",
    "from sklearn.metrics import accuracy_score\n",
    "\n",
    "OneVsRestClassifier(RandomForestClassifier(n_estimators=100, random_state=0)).fit(X_train_multi, y_train_multi).predict(X_val_multi)\n",
    "\n",
    "# Show prediction accuracy\n",
    "print('\\nPrediction accuracy:')\n",
    "print('{:.2%}\\n'.format(accuracy_score(y_val_multi, scores)))\n",
    "print('\\nPrediction kappa:')\n",
    "print('{:.2%}\\n'.format(cohen_kappa_score(y_val_multi, scores)))"
   ]
  },
  {
   "cell_type": "code",
   "execution_count": 48,
   "metadata": {
    "colab": {
     "base_uri": "https://localhost:8080/"
    },
    "id": "Q9HmibY4rZLD",
    "outputId": "0e06d82e-522d-4597-ce3e-431f3654e5da"
   },
   "outputs": [
    {
     "name": "stderr",
     "output_type": "stream",
     "text": [
      "c:\\users\\hp\\appdata\\local\\programs\\python\\python37\\lib\\site-packages\\sklearn\\svm\\_base.py:986: ConvergenceWarning: Liblinear failed to converge, increase the number of iterations.\n",
      "  \"the number of iterations.\", ConvergenceWarning)\n",
      "c:\\users\\hp\\appdata\\local\\programs\\python\\python37\\lib\\site-packages\\sklearn\\svm\\_base.py:986: ConvergenceWarning: Liblinear failed to converge, increase the number of iterations.\n",
      "  \"the number of iterations.\", ConvergenceWarning)\n"
     ]
    },
    {
     "name": "stdout",
     "output_type": "stream",
     "text": [
      "\n",
      "Prediction accuracy:\n",
      "64.80%\n",
      "\n",
      "\n",
      "Prediction kappa:\n",
      "44.55%\n",
      "\n"
     ]
    },
    {
     "name": "stderr",
     "output_type": "stream",
     "text": [
      "c:\\users\\hp\\appdata\\local\\programs\\python\\python37\\lib\\site-packages\\sklearn\\svm\\_base.py:986: ConvergenceWarning: Liblinear failed to converge, increase the number of iterations.\n",
      "  \"the number of iterations.\", ConvergenceWarning)\n"
     ]
    }
   ],
   "source": [
    "#LinearSVC Prediction accuracy: 64.80%. Prediction kappa: 44.55%\n",
    "from sklearn.multiclass import OneVsRestClassifier\n",
    "from sklearn.svm import LinearSVC\n",
    "\n",
    "OneVsRestClassifier(LinearSVC(random_state=0)).fit(X_train_multi, y_train_multi).predict(X_val_multi)\n",
    "\n",
    "# Show prediction accuracy\n",
    "print('\\nPrediction accuracy:')\n",
    "print('{:.2%}\\n'.format(accuracy_score(y_val_multi, scores)))\n",
    "print('\\nPrediction kappa:')\n",
    "print('{:.2%}\\n'.format(cohen_kappa_score(y_val_multi, scores)))"
   ]
  },
  {
   "cell_type": "code",
   "execution_count": 49,
   "metadata": {
    "colab": {
     "base_uri": "https://localhost:8080/"
    },
    "id": "lEmBS5zNvHTV",
    "outputId": "13656310-3fdb-4eb6-f0d2-a244b9dab1d1"
   },
   "outputs": [
    {
     "name": "stdout",
     "output_type": "stream",
     "text": [
      "\n",
      "Prediction accuracy:\n",
      "70.00%\n",
      "\n",
      "\n",
      "Prediction kappa:\n",
      "52.26%\n",
      "\n"
     ]
    }
   ],
   "source": [
    "#RandomForestClassifier classifier Prediction accuracy: 70.00%. Prediction kappa: 52.26%\n",
    "from sklearn.ensemble import RandomForestClassifier\n",
    "from sklearn.metrics import accuracy_score\n",
    "clf = RandomForestClassifier(n_estimators=200, random_state=0)\n",
    "clf.fit(X_train_multi, y_train_multi)\n",
    "scores = clf.predict(X_val_multi)\n",
    "\n",
    "# Show prediction accuracy\n",
    "print('\\nPrediction accuracy:')\n",
    "print('{:.2%}\\n'.format(accuracy_score(y_val_multi, scores)))\n",
    "print('\\nPrediction kappa:')\n",
    "print('{:.2%}\\n'.format(cohen_kappa_score(y_val_multi, scores)))"
   ]
  },
  {
   "cell_type": "code",
   "execution_count": 50,
   "metadata": {
    "colab": {
     "base_uri": "https://localhost:8080/"
    },
    "id": "kpUirjquvJGT",
    "outputId": "2a9d4c00-dc18-467e-c92b-cee3f8aa4626"
   },
   "outputs": [
    {
     "name": "stdout",
     "output_type": "stream",
     "text": [
      "\n",
      "Prediction accuracy:\n",
      "71.20%\n",
      "\n",
      "\n",
      "Prediction kappa:\n",
      "54.11%\n",
      "\n"
     ]
    }
   ],
   "source": [
    "#Extratrees classifier Prediction accuracy: 71.20%. Prediction kappa: 54.11%\n",
    "from sklearn.ensemble import ExtraTreesClassifier\n",
    "from sklearn.metrics import accuracy_score\n",
    "clf = ExtraTreesClassifier(n_estimators=400, random_state=0)\n",
    "clf.fit(X_train_multi, y_train_multi)\n",
    "scores = clf.predict(X_val_multi)\n",
    "\n",
    "# Show prediction accuracy\n",
    "print('\\nPrediction accuracy:')\n",
    "print('{:.2%}\\n'.format(accuracy_score(y_val_multi, scores)))\n",
    "print('\\nPrediction kappa:')\n",
    "print('{:.2%}\\n'.format(cohen_kappa_score(y_val_multi, scores)))"
   ]
  },
  {
   "cell_type": "code",
   "execution_count": 51,
   "metadata": {
    "colab": {
     "base_uri": "https://localhost:8080/"
    },
    "id": "sz6BKWtVvK10",
    "outputId": "81d8cd16-5681-460a-c32a-96e1f775838e"
   },
   "outputs": [
    {
     "name": "stdout",
     "output_type": "stream",
     "text": [
      "\n",
      "Prediction accuracy:\n",
      "62.60%\n",
      "\n",
      "\n",
      "Prediction kappa:\n",
      "40.86%\n",
      "\n"
     ]
    }
   ],
   "source": [
    "#Adaboost classifier Prediction accuracy: 62.60%. Prediction kappa: 40.86%\n",
    "\n",
    "from sklearn.ensemble import AdaBoostClassifier\n",
    "from sklearn.metrics import accuracy_score\n",
    "clf = AdaBoostClassifier(n_estimators=200, random_state=0)\n",
    "clf.fit(X_train_multi, y_train_multi)\n",
    "scores = clf.predict(X_val_multi)\n",
    "\n",
    "# Show prediction accuracy\n",
    "print('\\nPrediction accuracy:')\n",
    "print('{:.2%}\\n'.format(accuracy_score(y_val_multi, scores)))\n",
    "print('\\nPrediction kappa:')\n",
    "print('{:.2%}\\n'.format(cohen_kappa_score(y_val_multi, scores)))"
   ]
  },
  {
   "cell_type": "code",
   "execution_count": 52,
   "metadata": {
    "colab": {
     "base_uri": "https://localhost:8080/"
    },
    "id": "QvcGcSs0vNFp",
    "outputId": "1a44711f-b558-4186-a123-812c26f62738"
   },
   "outputs": [
    {
     "name": "stdout",
     "output_type": "stream",
     "text": [
      "\n",
      "Prediction accuracy:\n",
      "50.80%\n",
      "\n",
      "\n",
      "Prediction kappa:\n",
      "18.00%\n",
      "\n"
     ]
    }
   ],
   "source": [
    "#SVM classifier Prediction accuracy: 50.80% Prediction kappa: 18.00%\n",
    "from sklearn import svm\n",
    "from sklearn.metrics import accuracy_score\n",
    "clf = svm.SVC()\n",
    "clf.fit(X_train_multi, y_train_multi)\n",
    "scores = clf.predict(X_val_multi)\n",
    "\n",
    "# Show prediction accuracy\n",
    "print('\\nPrediction accuracy:')\n",
    "print('{:.2%}\\n'.format(accuracy_score(y_val_multi, scores)))\n",
    "print('\\nPrediction kappa:')\n",
    "print('{:.2%}\\n'.format(cohen_kappa_score(y_val_multi, scores)))"
   ]
  },
  {
   "cell_type": "code",
   "execution_count": 53,
   "metadata": {
    "colab": {
     "base_uri": "https://localhost:8080/"
    },
    "id": "zIxkqxP6vOwJ",
    "outputId": "6bc13673-45f6-48c3-a7c4-caa4f26a325a"
   },
   "outputs": [
    {
     "name": "stdout",
     "output_type": "stream",
     "text": [
      "\n",
      "Prediction accuracy:\n",
      "52.20%\n",
      "\n",
      "\n",
      "Prediction kappa:\n",
      "23.74%\n",
      "\n"
     ]
    }
   ],
   "source": [
    "#KNN classifier Prediction accuracy: 52.20% Prediction kappa: 23.74%\n",
    "\n",
    "from sklearn.neighbors import KNeighborsClassifier\n",
    "from sklearn.metrics import accuracy_score\n",
    "knn = KNeighborsClassifier(n_neighbors=10)\n",
    "knn.fit(X_train_multi,y_train_multi)\n",
    "scores = knn.predict(X_val_multi)\n",
    "\n",
    "# Show prediction accuracy\n",
    "print('\\nPrediction accuracy:')\n",
    "print('{:.2%}\\n'.format(accuracy_score(y_val_multi, scores)))\n",
    "print('\\nPrediction kappa:')\n",
    "print('{:.2%}\\n'.format(cohen_kappa_score(y_val_multi, scores)))\n"
   ]
  },
  {
   "cell_type": "code",
   "execution_count": 54,
   "metadata": {
    "colab": {
     "base_uri": "https://localhost:8080/"
    },
    "id": "3u9Ty_3tvRLW",
    "outputId": "50aefea4-500f-44b6-88c5-6797643dcd96"
   },
   "outputs": [
    {
     "name": "stdout",
     "output_type": "stream",
     "text": [
      "[22:02:44] WARNING: C:/Users/Administrator/workspace/xgboost-win64_release_1.4.0/src/learner.cc:1095: Starting in XGBoost 1.3.0, the default evaluation metric used with the objective 'multi:softprob' was changed from 'merror' to 'mlogloss'. Explicitly set eval_metric if you'd like to restore the old behavior.\n"
     ]
    },
    {
     "name": "stderr",
     "output_type": "stream",
     "text": [
      "c:\\users\\hp\\appdata\\local\\programs\\python\\python37\\lib\\site-packages\\xgboost\\sklearn.py:1146: UserWarning: The use of label encoder in XGBClassifier is deprecated and will be removed in a future release. To remove this warning, do the following: 1) Pass option use_label_encoder=False when constructing XGBClassifier object; and 2) Encode your labels (y) as integers starting with 0, i.e. 0, 1, 2, ..., [num_class - 1].\n",
      "  warnings.warn(label_encoder_deprecation_msg, UserWarning)\n"
     ]
    },
    {
     "name": "stdout",
     "output_type": "stream",
     "text": [
      "\n",
      "Prediction accuracy:\n",
      "73.00%\n",
      "\n",
      "\n",
      "Prediction kappa:\n",
      "57.36%\n",
      "\n"
     ]
    }
   ],
   "source": [
    "# XGBClassifier Prediction accuracy: 73.00%. Prediction kappa: 57.36%\n",
    "\n",
    "from xgboost import XGBClassifier\n",
    "from sklearn.metrics import accuracy_score\n",
    "\n",
    "model = XGBClassifier()\n",
    "model.fit(X_train_multi, y_train_multi)\n",
    "scores = model.predict(X_val_multi)\n",
    "# Show prediction accuracy\n",
    "print('\\nPrediction accuracy:')\n",
    "print('{:.2%}\\n'.format(accuracy_score(y_val_multi, scores)))\n",
    "print('\\nPrediction kappa:')\n",
    "print('{:.2%}\\n'.format(cohen_kappa_score(y_val_multi, scores)))"
   ]
  },
  {
   "cell_type": "code",
   "execution_count": 55,
   "metadata": {
    "colab": {
     "base_uri": "https://localhost:8080/"
    },
    "id": "3QoceSXJwHU0",
    "outputId": "9ef301dd-b9a1-4d81-e557-8eed463cacd7"
   },
   "outputs": [
    {
     "name": "stdout",
     "output_type": "stream",
     "text": [
      "\n",
      "Prediction accuracy:\n",
      "54.80%\n",
      "\n",
      "\n",
      "Prediction kappa:\n",
      "31.80%\n",
      "\n"
     ]
    }
   ],
   "source": [
    "#PassiveAggressiveClassifier Prediction accuracy: 54.80%. Prediction kappa: 31.80%\n",
    "\n",
    "from sklearn.linear_model import PassiveAggressiveClassifier\n",
    "from sklearn.metrics import accuracy_score\n",
    "\n",
    "model = PassiveAggressiveClassifier(max_iter=1000, random_state=0,tol=1e-3)\n",
    "model.fit(X_train_multi, y_train_multi)\n",
    "scores = model.predict(X_val_multi)\n",
    "# Show prediction accuracy\n",
    "print('\\nPrediction accuracy:')\n",
    "print('{:.2%}\\n'.format(accuracy_score(y_val_multi, scores)))\n",
    "print('\\nPrediction kappa:')\n",
    "print('{:.2%}\\n'.format(cohen_kappa_score(y_val_multi, scores)))"
   ]
  },
  {
   "cell_type": "code",
   "execution_count": 56,
   "metadata": {
    "colab": {
     "base_uri": "https://localhost:8080/"
    },
    "id": "SIlG13THvaOm",
    "outputId": "6f42d72a-32f2-46f3-f564-45066c9f8bd4"
   },
   "outputs": [
    {
     "name": "stdout",
     "output_type": "stream",
     "text": [
      "\n",
      "Prediction accuracy:\n",
      "58.60%\n",
      "\n",
      "\n",
      "Prediction kappa:\n",
      "37.95%\n",
      "\n"
     ]
    }
   ],
   "source": [
    "# VotingClassifier Prediction accuracy: 58.60%. Prediction kappa: 37.95%\n",
    "\n",
    "from sklearn.naive_bayes import GaussianNB\n",
    "from sklearn.ensemble import VotingClassifier\n",
    "classifiers = [\n",
    "                  ('bayes', GaussianNB()),\n",
    "                  ('logisticregression', LogisticRegression()),\n",
    "                  ('svc', SVC(gamma='auto')),\n",
    "              ]\n",
    "clf = VotingClassifier(classifiers, n_jobs=-1)\n",
    "clf.fit(X_train_multi, y_train_multi)\n",
    "scores = clf.predict(X_val_multi)\n",
    "# Show prediction accuracy\n",
    "print('\\nPrediction accuracy:')\n",
    "print('{:.2%}\\n'.format(accuracy_score(y_val_multi, scores)))\n",
    "print('\\nPrediction kappa:')\n",
    "print('{:.2%}\\n'.format(cohen_kappa_score(y_val_multi, scores)))"
   ]
  },
  {
   "cell_type": "code",
   "execution_count": 440,
   "metadata": {
    "id": "Aonzv7XGvaRg"
   },
   "outputs": [],
   "source": []
  }
 ],
 "metadata": {
  "colab": {
   "collapsed_sections": [],
   "name": "multiclass models.ipynb",
   "provenance": []
  },
  "kernelspec": {
   "display_name": "Python 3",
   "language": "python",
   "name": "python3"
  },
  "language_info": {
   "codemirror_mode": {
    "name": "ipython",
    "version": 3
   },
   "file_extension": ".py",
   "mimetype": "text/x-python",
   "name": "python",
   "nbconvert_exporter": "python",
   "pygments_lexer": "ipython3",
   "version": "3.7.9"
  }
 },
 "nbformat": 4,
 "nbformat_minor": 1
}
